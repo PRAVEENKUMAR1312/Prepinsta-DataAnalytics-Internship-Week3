{
  "nbformat": 4,
  "nbformat_minor": 0,
  "metadata": {
    "colab": {
      "provenance": [],
      "toc_visible": true
    },
    "kernelspec": {
      "name": "python3",
      "display_name": "Python 3"
    },
    "language_info": {
      "name": "python"
    }
  },
  "cells": [
    {
      "cell_type": "code",
      "execution_count": null,
      "metadata": {
        "id": "4XKLgkgrs_Tg"
      },
      "outputs": [],
      "source": [
        "import pandas as pd\n",
        "import numpy as np\n",
        "Data = pd.read_csv(\"/content/Data-cleaning-for-beginners-using-pandas.csv\")\n",
        "df=pd.DataFrame(Data)"
      ]
    },
    {
      "cell_type": "code",
      "source": [
        "#1MISSING VALUES\n",
        "Data.info()"
      ],
      "metadata": {
        "colab": {
          "base_uri": "https://localhost:8080/"
        },
        "id": "KobyQ6YbuK1O",
        "outputId": "76b1f283-5cc7-4ccc-924c-1959708678f5"
      },
      "execution_count": null,
      "outputs": [
        {
          "output_type": "stream",
          "name": "stdout",
          "text": [
            "<class 'pandas.core.frame.DataFrame'>\n",
            "RangeIndex: 29 entries, 0 to 28\n",
            "Data columns (total 7 columns):\n",
            " #   Column       Non-Null Count  Dtype  \n",
            "---  ------       --------------  -----  \n",
            " 0   Index        29 non-null     int64  \n",
            " 1   Age          22 non-null     float64\n",
            " 2   Salary       29 non-null     object \n",
            " 3   Rating       28 non-null     float64\n",
            " 4   Location     29 non-null     object \n",
            " 5   Established  29 non-null     int64  \n",
            " 6   Easy Apply   29 non-null     object \n",
            "dtypes: float64(2), int64(2), object(3)\n",
            "memory usage: 1.7+ KB\n"
          ]
        }
      ]
    },
    {
      "cell_type": "code",
      "source": [
        "Data.columns = Data.columns.str.lower().str.replace(' ','_')\n",
        "\n"
      ],
      "metadata": {
        "id": "XCWr8cWdd_3x"
      },
      "execution_count": null,
      "outputs": []
    },
    {
      "cell_type": "code",
      "source": [
        "Data.isna().sum()"
      ],
      "metadata": {
        "colab": {
          "base_uri": "https://localhost:8080/"
        },
        "outputId": "1e97fc0f-ee4a-450c-aa70-b8059818993c",
        "id": "ZPBIZ6IOdTUh"
      },
      "execution_count": null,
      "outputs": [
        {
          "output_type": "execute_result",
          "data": {
            "text/plain": [
              "index          0\n",
              "age            0\n",
              "salary         0\n",
              "rating         1\n",
              "location       0\n",
              "established    0\n",
              "easy_apply     0\n",
              "dtype: int64"
            ]
          },
          "metadata": {},
          "execution_count": 60
        }
      ]
    },
    {
      "cell_type": "code",
      "source": [
        "#2DATATYPES\n",
        "df.dtypes\n"
      ],
      "metadata": {
        "colab": {
          "base_uri": "https://localhost:8080/"
        },
        "id": "66lC0EymD_cH",
        "outputId": "fb0f282c-7129-450b-d088-25fb2bf15209"
      },
      "execution_count": null,
      "outputs": [
        {
          "output_type": "execute_result",
          "data": {
            "text/plain": [
              "index            int64\n",
              "age            float64\n",
              "salary          object\n",
              "rating         float64\n",
              "location        object\n",
              "established      int64\n",
              "easy_apply      object\n",
              "dtype: object"
            ]
          },
          "metadata": {},
          "execution_count": 56
        }
      ]
    },
    {
      "cell_type": "markdown",
      "source": [],
      "metadata": {
        "id": "hk0ozmTeYMXE"
      }
    },
    {
      "cell_type": "code",
      "source": [
        "#3OUTLIERS\n",
        "import seaborn as sns\n",
        "df.age.plot.box()"
      ],
      "metadata": {
        "colab": {
          "base_uri": "https://localhost:8080/",
          "height": 448
        },
        "id": "iNTpRBkjEm8u",
        "outputId": "20a813f5-a7cc-43de-db3e-06b4ca56e7ab"
      },
      "execution_count": null,
      "outputs": [
        {
          "output_type": "execute_result",
          "data": {
            "text/plain": [
              "<Axes: >"
            ]
          },
          "metadata": {},
          "execution_count": 61
        },
        {
          "output_type": "display_data",
          "data": {
            "text/plain": [
              "<Figure size 640x480 with 1 Axes>"
            ],
            "image/png": "[encoded data removed]"
          },
          "metadata": {}
        }
      ]
    },
    {
      "cell_type": "code",
      "source": [
        "df.age.describe()"
      ],
      "metadata": {
        "colab": {
          "base_uri": "https://localhost:8080/"
        },
        "id": "hOMHp91kFIVJ",
        "outputId": "757b682f-57af-42f4-8b28-76575d9d48b8"
      },
      "execution_count": null,
      "outputs": [
        {
          "output_type": "execute_result",
          "data": {
            "text/plain": [
              "count    22.000000\n",
              "mean     39.045455\n",
              "std      16.134781\n",
              "min      13.000000\n",
              "25%      25.000000\n",
              "50%      39.500000\n",
              "75%      50.000000\n",
              "max      66.000000\n",
              "Name: age, dtype: float64"
            ]
          },
          "metadata": {},
          "execution_count": 62
        }
      ]
    },
    {
      "cell_type": "code",
      "source": [
        "Q1=df.age.quantile(.25)\n",
        "Q3=df.age.quantile(.75)\n",
        "IQR= Q3-Q1\n",
        "upper_bound= Q3+(1.5*IQR)\n",
        "lower_bound=Q1-(1.5*IQR)\n",
        "print(lower_bound,upper_bound)"
      ],
      "metadata": {
        "colab": {
          "base_uri": "https://localhost:8080/"
        },
        "id": "OhXdvNEKFM0N",
        "outputId": "058a3277-0d09-4d48-b1af-25180db0ffe9"
      },
      "execution_count": null,
      "outputs": [
        {
          "output_type": "stream",
          "name": "stdout",
          "text": [
            "-12.5 87.5\n"
          ]
        }
      ]
    },
    {
      "cell_type": "code",
      "source": [
        "df.age[df.age<14]"
      ],
      "metadata": {
        "colab": {
          "base_uri": "https://localhost:8080/"
        },
        "id": "5g-uWvasHGVO",
        "outputId": "a7fcbe67-a784-421d-afe8-eaccca0c5b85"
      },
      "execution_count": null,
      "outputs": [
        {
          "output_type": "execute_result",
          "data": {
            "text/plain": [
              "24    13.0\n",
              "Name: age, dtype: float64"
            ]
          },
          "metadata": {},
          "execution_count": 64
        }
      ]
    },
    {
      "cell_type": "code",
      "source": [
        "#Treating outliers\n",
        "df.loc[df.age > upper_bound,'age']=upper_bound\n",
        "df.loc[df.age < lower_bound,'age']=lower_bound\n",
        "print(df)"
      ],
      "metadata": {
        "colab": {
          "base_uri": "https://localhost:8080/"
        },
        "id": "cmGGa-rhHhoY",
        "outputId": "1f2fd030-01d5-47aa-c8ed-bb3aeba6e3c3"
      },
      "execution_count": null,
      "outputs": [
        {
          "output_type": "stream",
          "name": "stdout",
          "text": [
            "    index   age      salary  rating       location  established easy_apply\n",
            "0       0  44.0   $44k-$99k     5.4       India,In         1999       TRUE\n",
            "1       1  66.0   $55k-$66k     3.5    New York,Ny         2002       TRUE\n",
            "2       2   NaN   $77k-$89k    -1.0    New York,Ny           -1         -1\n",
            "3       3  64.0   $44k-$99k     4.4       India In         1988         -1\n",
            "4       4  25.0   $44k-$99k     6.4  Australia Aus         2002         -1\n",
            "5       5  44.0   $77k-$89k     1.4       India,In         1999       TRUE\n",
            "6       6  21.0   $44k-$99k     0.0    New York,Ny           -1         -1\n",
            "7       7  44.0   $44k-$99k    -1.0  Australia Aus           -1         -1\n",
            "8       8  35.0   $44k-$99k     5.4    New York,Ny           -1         -1\n",
            "9       9  22.0   $44k-$99k     7.7       India,In           -1       TRUE\n",
            "10     10  55.0   $10k-$49k     5.4       India,In         2008       TRUE\n",
            "11     11  44.0   $10k-$49k     6.7       India,In         2009         -1\n",
            "12     12   NaN   $44k-$99k     0.0       India,In         1999         -1\n",
            "13     13  25.0   $44k-$99k    -1.0  Australia Aus         2019       TRUE\n",
            "14     14  66.0   $44k-$99k     4.0  Australia Aus         2020       TRUE\n",
            "15     15  44.0  $88k-$101k     3.0  Australia Aus         1999         -1\n",
            "16     16  19.0   $19k-$40k     4.5       India,In         1984         -1\n",
            "17     17   NaN   $44k-$99k     5.3    New York,Ny         1943       TRUE\n",
            "18     18  35.0   $44k-$99k     6.7    New York,Ny         1954       TRUE\n",
            "19     19  32.0   $44k-$99k     3.3    New York,Ny         1955       TRUE\n",
            "20     20   NaN   $44k-$99k     5.7    New York,Ny         1944       TRUE\n",
            "21     21  35.0   $44k-$99k     5.0    New York,Ny         1946         -1\n",
            "22     22  19.0   $55k-$66k     7.8    New York,Ny         1988       TRUE\n",
            "23     23   NaN   $44k-$99k     2.4    New York,Ny         1999       TRUE\n",
            "24     24  13.0   $44k-$99k    -1.0    New York,Ny         1987         -1\n",
            "25     25  55.0   $44k-$99k     0.0  Australia Aus         1980       TRUE\n",
            "26     26   NaN   $55k-$66k     NaN       India,In         1934       TRUE\n",
            "27     27  52.0   $44k-$99k     5.4       India,In         1935         -1\n",
            "28     28   NaN   $39k-$88k     3.4  Australia Aus         1932         -1\n"
          ]
        }
      ]
    },
    {
      "cell_type": "code",
      "source": [
        "#9Handling age distribution by replacing NaN values\n",
        "avg_age = Data.age.mean()\n",
        "df['age']"
      ],
      "metadata": {
        "id": "6UGDIooVxIoA",
        "colab": {
          "base_uri": "https://localhost:8080/"
        },
        "outputId": "ca3330f5-bbde-4ba7-b7d3-cb3c986cfe58"
      },
      "execution_count": null,
      "outputs": [
        {
          "output_type": "execute_result",
          "data": {
            "text/plain": [
              "0     44.0\n",
              "1     66.0\n",
              "2      NaN\n",
              "3     64.0\n",
              "4     25.0\n",
              "5     44.0\n",
              "6     21.0\n",
              "7     44.0\n",
              "8     35.0\n",
              "9     22.0\n",
              "10    55.0\n",
              "11    44.0\n",
              "12     NaN\n",
              "13    25.0\n",
              "14    66.0\n",
              "15    44.0\n",
              "16    19.0\n",
              "17     NaN\n",
              "18    35.0\n",
              "19    32.0\n",
              "20     NaN\n",
              "21    35.0\n",
              "22    19.0\n",
              "23     NaN\n",
              "24    13.0\n",
              "25    55.0\n",
              "26     NaN\n",
              "27    52.0\n",
              "28     NaN\n",
              "Name: age, dtype: float64"
            ]
          },
          "metadata": {},
          "execution_count": 57
        }
      ]
    },
    {
      "cell_type": "code",
      "source": [
        "#9Age Distibution\n",
        "Data['age']=Data['age'].fillna(avg_age)\n",
        "Data['age']=Data['age'].round(decimals=1)\n",
        "Data['age'].astype('int')"
      ],
      "metadata": {
        "colab": {
          "base_uri": "https://localhost:8080/"
        },
        "id": "0vwpy427x2e-",
        "outputId": "5b3352b9-a910-4c7d-a6f4-268d4df97d3f"
      },
      "execution_count": null,
      "outputs": [
        {
          "output_type": "execute_result",
          "data": {
            "text/plain": [
              "0     44\n",
              "1     66\n",
              "2     39\n",
              "3     64\n",
              "4     25\n",
              "5     44\n",
              "6     21\n",
              "7     44\n",
              "8     35\n",
              "9     22\n",
              "10    55\n",
              "11    44\n",
              "12    39\n",
              "13    25\n",
              "14    66\n",
              "15    44\n",
              "16    19\n",
              "17    39\n",
              "18    35\n",
              "19    32\n",
              "20    39\n",
              "21    35\n",
              "22    19\n",
              "23    39\n",
              "24    13\n",
              "25    55\n",
              "26    39\n",
              "27    52\n",
              "28    39\n",
              "Name: age, dtype: int64"
            ]
          },
          "metadata": {},
          "execution_count": 58
        }
      ]
    },
    {
      "cell_type": "code",
      "source": [
        "Data['age'].isna().sum()"
      ],
      "metadata": {
        "colab": {
          "base_uri": "https://localhost:8080/"
        },
        "id": "2DkOSZp8yet-",
        "outputId": "8620400e-cebb-4ae1-b4c0-64a11ef4e4f8"
      },
      "execution_count": null,
      "outputs": [
        {
          "output_type": "execute_result",
          "data": {
            "text/plain": [
              "0"
            ]
          },
          "metadata": {},
          "execution_count": 59
        }
      ]
    },
    {
      "cell_type": "code",
      "source": [
        "#8Handling rating by replacing negative values\n",
        "Data['rating'].isna().sum()"
      ],
      "metadata": {
        "colab": {
          "base_uri": "https://localhost:8080/"
        },
        "id": "8wHzJMY_KGsE",
        "outputId": "2d867b98-f974-4de9-8bde-f89bda47957f"
      },
      "execution_count": null,
      "outputs": [
        {
          "output_type": "execute_result",
          "data": {
            "text/plain": [
              "1"
            ]
          },
          "metadata": {},
          "execution_count": 9
        }
      ]
    },
    {
      "cell_type": "code",
      "source": [
        "A=df['rating'] = df['rating'].replace(-1,np.nan)\n",
        "df['rating']"
      ],
      "metadata": {
        "colab": {
          "base_uri": "https://localhost:8080/"
        },
        "id": "PRmMzq4cysX-",
        "outputId": "53adaebb-2f54-4a26-959d-36a6c77fa869"
      },
      "execution_count": null,
      "outputs": [
        {
          "output_type": "execute_result",
          "data": {
            "text/plain": [
              "0     5.4\n",
              "1     3.5\n",
              "2     NaN\n",
              "3     4.4\n",
              "4     6.4\n",
              "5     1.4\n",
              "6     0.0\n",
              "7     NaN\n",
              "8     5.4\n",
              "9     7.7\n",
              "10    5.4\n",
              "11    6.7\n",
              "12    0.0\n",
              "13    NaN\n",
              "14    4.0\n",
              "15    3.0\n",
              "16    4.5\n",
              "17    5.3\n",
              "18    6.7\n",
              "19    3.3\n",
              "20    5.7\n",
              "21    5.0\n",
              "22    7.8\n",
              "23    2.4\n",
              "24    NaN\n",
              "25    0.0\n",
              "26    NaN\n",
              "27    5.4\n",
              "28    3.4\n",
              "Name: Rating, dtype: float64"
            ]
          },
          "metadata": {},
          "execution_count": 10
        }
      ]
    },
    {
      "cell_type": "code",
      "source": [
        "avg_rating = df.rating.mean()\n",
        "print(avg_rating)"
      ],
      "metadata": {
        "colab": {
          "base_uri": "https://localhost:8080/"
        },
        "id": "pYx1ar9-Lh-p",
        "outputId": "5ad9d8b3-da79-4b36-8471-6239d4b479df"
      },
      "execution_count": null,
      "outputs": [
        {
          "output_type": "stream",
          "name": "stdout",
          "text": [
            "4.283333333333334\n"
          ]
        }
      ]
    },
    {
      "cell_type": "code",
      "source": [
        "df['rating']=df['rating'].fillna(avg_rating)\n",
        "df['rating']=df['rating'].round(decimals=1)\n",
        "#8Rating range\n",
        "df['rating'].astype('int')"
      ],
      "metadata": {
        "colab": {
          "base_uri": "https://localhost:8080/"
        },
        "id": "4ZcqFBBuMvBt",
        "outputId": "1fa78e02-b90b-4bb6-bf14-497d054884ce"
      },
      "execution_count": null,
      "outputs": [
        {
          "output_type": "execute_result",
          "data": {
            "text/plain": [
              "0     5\n",
              "1     3\n",
              "2     4\n",
              "3     4\n",
              "4     6\n",
              "5     1\n",
              "6     0\n",
              "7     4\n",
              "8     5\n",
              "9     7\n",
              "10    5\n",
              "11    6\n",
              "12    0\n",
              "13    4\n",
              "14    4\n",
              "15    3\n",
              "16    4\n",
              "17    5\n",
              "18    6\n",
              "19    3\n",
              "20    5\n",
              "21    5\n",
              "22    7\n",
              "23    2\n",
              "24    4\n",
              "25    0\n",
              "26    4\n",
              "27    5\n",
              "28    3\n",
              "Name: Rating, dtype: int64"
            ]
          },
          "metadata": {},
          "execution_count": 12
        }
      ]
    },
    {
      "cell_type": "code",
      "source": [
        "#Handling Established by replacing negative values\n",
        "df['established']"
      ],
      "metadata": {
        "colab": {
          "base_uri": "https://localhost:8080/"
        },
        "id": "He_jFrASP1IH",
        "outputId": "f6cda8da-8bb9-4049-f836-59cc7c12683f"
      },
      "execution_count": null,
      "outputs": [
        {
          "output_type": "execute_result",
          "data": {
            "text/plain": [
              "0     1999\n",
              "1     2002\n",
              "2       -1\n",
              "3     1988\n",
              "4     2002\n",
              "5     1999\n",
              "6       -1\n",
              "7       -1\n",
              "8       -1\n",
              "9       -1\n",
              "10    2008\n",
              "11    2009\n",
              "12    1999\n",
              "13    2019\n",
              "14    2020\n",
              "15    1999\n",
              "16    1984\n",
              "17    1943\n",
              "18    1954\n",
              "19    1955\n",
              "20    1944\n",
              "21    1946\n",
              "22    1988\n",
              "23    1999\n",
              "24    1987\n",
              "25    1980\n",
              "26    1934\n",
              "27    1935\n",
              "28    1932\n",
              "Name: established, dtype: int64"
            ]
          },
          "metadata": {},
          "execution_count": 25
        }
      ]
    },
    {
      "cell_type": "code",
      "source": [
        "df['established'] = df['established'].replace(-1,np.nan)\n",
        "df['established']"
      ],
      "metadata": {
        "colab": {
          "base_uri": "https://localhost:8080/"
        },
        "id": "7lQVinxlJgcO",
        "outputId": "d96d2587-312f-49db-ecb6-aea2a6110294"
      },
      "execution_count": null,
      "outputs": [
        {
          "output_type": "execute_result",
          "data": {
            "text/plain": [
              "0     1999.0\n",
              "1     2002.0\n",
              "2        NaN\n",
              "3     1988.0\n",
              "4     2002.0\n",
              "5     1999.0\n",
              "6        NaN\n",
              "7        NaN\n",
              "8        NaN\n",
              "9        NaN\n",
              "10    2008.0\n",
              "11    2009.0\n",
              "12    1999.0\n",
              "13    2019.0\n",
              "14    2020.0\n",
              "15    1999.0\n",
              "16    1984.0\n",
              "17    1943.0\n",
              "18    1954.0\n",
              "19    1955.0\n",
              "20    1944.0\n",
              "21    1946.0\n",
              "22    1988.0\n",
              "23    1999.0\n",
              "24    1987.0\n",
              "25    1980.0\n",
              "26    1934.0\n",
              "27    1935.0\n",
              "28    1932.0\n",
              "Name: established, dtype: float64"
            ]
          },
          "metadata": {},
          "execution_count": 26
        }
      ]
    },
    {
      "cell_type": "code",
      "source": [
        "median_established=df.established.median()\n",
        "print(median_established)"
      ],
      "metadata": {
        "colab": {
          "base_uri": "https://localhost:8080/"
        },
        "id": "pYAUwRImQkUH",
        "outputId": "3c119619-68c7-488a-b5af-e0253c0f7a97"
      },
      "execution_count": null,
      "outputs": [
        {
          "output_type": "stream",
          "name": "stdout",
          "text": [
            "1988.0\n"
          ]
        }
      ]
    },
    {
      "cell_type": "code",
      "source": [
        "\n",
        "df['established']=df['established'].fillna(median_established)\n",
        "df['established']=df['established'].round(decimals=1)\n",
        "df['established'].astype('int')"
      ],
      "metadata": {
        "colab": {
          "base_uri": "https://localhost:8080/"
        },
        "outputId": "e85e8ab6-f6ec-4002-c4ec-10fa94e7d8db",
        "id": "_---z80wQHTM"
      },
      "execution_count": null,
      "outputs": [
        {
          "output_type": "execute_result",
          "data": {
            "text/plain": [
              "0     1999\n",
              "1     2002\n",
              "2     1988\n",
              "3     1988\n",
              "4     2002\n",
              "5     1999\n",
              "6     1988\n",
              "7     1988\n",
              "8     1988\n",
              "9     1988\n",
              "10    2008\n",
              "11    2009\n",
              "12    1999\n",
              "13    2019\n",
              "14    2020\n",
              "15    1999\n",
              "16    1984\n",
              "17    1943\n",
              "18    1954\n",
              "19    1955\n",
              "20    1944\n",
              "21    1946\n",
              "22    1988\n",
              "23    1999\n",
              "24    1987\n",
              "25    1980\n",
              "26    1934\n",
              "27    1935\n",
              "28    1932\n",
              "Name: established, dtype: int64"
            ]
          },
          "metadata": {},
          "execution_count": 28
        }
      ]
    },
    {
      "cell_type": "code",
      "source": [
        "#4Salary formatting\n",
        "Data['salary']"
      ],
      "metadata": {
        "colab": {
          "base_uri": "https://localhost:8080/"
        },
        "id": "ANBdyz1j_aHE",
        "outputId": "ea4da910-089f-4758-9297-249f2447a337"
      },
      "execution_count": null,
      "outputs": [
        {
          "output_type": "execute_result",
          "data": {
            "text/plain": [
              "0      $44k-$99k\n",
              "1      $55k-$66k\n",
              "2      $77k-$89k\n",
              "3      $44k-$99k\n",
              "4      $44k-$99k\n",
              "5      $77k-$89k\n",
              "6      $44k-$99k\n",
              "7      $44k-$99k\n",
              "8      $44k-$99k\n",
              "9      $44k-$99k\n",
              "10     $10k-$49k\n",
              "11     $10k-$49k\n",
              "12     $44k-$99k\n",
              "13     $44k-$99k\n",
              "14     $44k-$99k\n",
              "15    $88k-$101k\n",
              "16     $19k-$40k\n",
              "17     $44k-$99k\n",
              "18     $44k-$99k\n",
              "19     $44k-$99k\n",
              "20     $44k-$99k\n",
              "21     $44k-$99k\n",
              "22     $55k-$66k\n",
              "23     $44k-$99k\n",
              "24     $44k-$99k\n",
              "25     $44k-$99k\n",
              "26     $55k-$66k\n",
              "27     $44k-$99k\n",
              "28     $39k-$88k\n",
              "Name: Salary, dtype: object"
            ]
          },
          "metadata": {},
          "execution_count": 17
        }
      ]
    },
    {
      "cell_type": "code",
      "source": [
        "Data['salary'] = Data['salary'].apply(lambda x:x.replace('$',''))\n",
        "Data['salary']"
      ],
      "metadata": {
        "id": "k1vqtCbQMKHf",
        "colab": {
          "base_uri": "https://localhost:8080/"
        },
        "outputId": "2e9a7f52-2cd6-4b01-de6e-54638cdaa7cf"
      },
      "execution_count": null,
      "outputs": [
        {
          "output_type": "execute_result",
          "data": {
            "text/plain": [
              "0      44k-99k\n",
              "1      55k-66k\n",
              "2      77k-89k\n",
              "3      44k-99k\n",
              "4      44k-99k\n",
              "5      77k-89k\n",
              "6      44k-99k\n",
              "7      44k-99k\n",
              "8      44k-99k\n",
              "9      44k-99k\n",
              "10     10k-49k\n",
              "11     10k-49k\n",
              "12     44k-99k\n",
              "13     44k-99k\n",
              "14     44k-99k\n",
              "15    88k-101k\n",
              "16     19k-40k\n",
              "17     44k-99k\n",
              "18     44k-99k\n",
              "19     44k-99k\n",
              "20     44k-99k\n",
              "21     44k-99k\n",
              "22     55k-66k\n",
              "23     44k-99k\n",
              "24     44k-99k\n",
              "25     44k-99k\n",
              "26     55k-66k\n",
              "27     44k-99k\n",
              "28     39k-88k\n",
              "Name: salary, dtype: object"
            ]
          },
          "metadata": {},
          "execution_count": 22
        }
      ]
    },
    {
      "cell_type": "code",
      "source": [
        "df.columns = df.columns.str.lower().str.replace(' ','_')"
      ],
      "metadata": {
        "id": "vU1vRCDmZbr6"
      },
      "execution_count": null,
      "outputs": []
    },
    {
      "cell_type": "code",
      "source": [
        "#Local standardization\n",
        "df.loc[df.location == 'Australia Aus','location'] = 'Australia,Aus'\n",
        "df.loc[df.location == 'Newyork Ny','location'] = 'Newyork,Ny'\n",
        "df.loc[df.location == 'India In', 'location'] = 'India,In'\n"
      ],
      "metadata": {
        "id": "rCFZYHyRKQ6Z"
      },
      "execution_count": null,
      "outputs": []
    },
    {
      "cell_type": "markdown",
      "source": [],
      "metadata": {
        "id": "4DgGC5Q7dOGX"
      }
    },
    {
      "cell_type": "code",
      "source": [
        "print(df)"
      ],
      "metadata": {
        "colab": {
          "base_uri": "https://localhost:8080/"
        },
        "id": "JacKexSiLptt",
        "outputId": "e640c8dd-4d39-4fb8-89ee-074bddd7379a"
      },
      "execution_count": null,
      "outputs": [
        {
          "output_type": "stream",
          "name": "stdout",
          "text": [
            "    index   age      salary  rating       location  established easy_apply\n",
            "0       0  44.0   $44k-$99k     5.4       India,In         1999       TRUE\n",
            "1       1  66.0   $55k-$66k     3.5    New York,Ny         2002       TRUE\n",
            "2       2  39.0   $77k-$89k    -1.0    New York,Ny           -1         -1\n",
            "3       3  64.0   $44k-$99k     4.4       India,In         1988         -1\n",
            "4       4  25.0   $44k-$99k     6.4  Australia,Aus         2002         -1\n",
            "5       5  44.0   $77k-$89k     1.4       India,In         1999       TRUE\n",
            "6       6  21.0   $44k-$99k     0.0    New York,Ny           -1         -1\n",
            "7       7  44.0   $44k-$99k    -1.0  Australia,Aus           -1         -1\n",
            "8       8  35.0   $44k-$99k     5.4    New York,Ny           -1         -1\n",
            "9       9  22.0   $44k-$99k     7.7       India,In           -1       TRUE\n",
            "10     10  55.0   $10k-$49k     5.4       India,In         2008       TRUE\n",
            "11     11  44.0   $10k-$49k     6.7       India,In         2009         -1\n",
            "12     12  39.0   $44k-$99k     0.0       India,In         1999         -1\n",
            "13     13  25.0   $44k-$99k    -1.0  Australia,Aus         2019       TRUE\n",
            "14     14  66.0   $44k-$99k     4.0  Australia,Aus         2020       TRUE\n",
            "15     15  44.0  $88k-$101k     3.0  Australia,Aus         1999         -1\n",
            "16     16  19.0   $19k-$40k     4.5       India,In         1984         -1\n",
            "17     17  39.0   $44k-$99k     5.3    New York,Ny         1943       TRUE\n",
            "18     18  35.0   $44k-$99k     6.7    New York,Ny         1954       TRUE\n",
            "19     19  32.0   $44k-$99k     3.3    New York,Ny         1955       TRUE\n",
            "20     20  39.0   $44k-$99k     5.7    New York,Ny         1944       TRUE\n",
            "21     21  35.0   $44k-$99k     5.0    New York,Ny         1946         -1\n",
            "22     22  19.0   $55k-$66k     7.8    New York,Ny         1988       TRUE\n",
            "23     23  39.0   $44k-$99k     2.4    New York,Ny         1999       TRUE\n",
            "24     24  13.0   $44k-$99k    -1.0    New York,Ny         1987         -1\n",
            "25     25  55.0   $44k-$99k     0.0  Australia,Aus         1980       TRUE\n",
            "26     26  39.0   $55k-$66k     NaN       India,In         1934       TRUE\n",
            "27     27  52.0   $44k-$99k     5.4       India,In         1935         -1\n",
            "28     28  39.0   $39k-$88k     3.4  Australia,Aus         1932         -1\n"
          ]
        }
      ]
    },
    {
      "cell_type": "code",
      "source": [
        "#Easy Apply Transformation\n",
        "df['easy_apply']"
      ],
      "metadata": {
        "colab": {
          "base_uri": "https://localhost:8080/"
        },
        "id": "ti8tluD3WWLW",
        "outputId": "955a3093-13cd-4172-f03f-5115c131c81c"
      },
      "execution_count": null,
      "outputs": [
        {
          "output_type": "execute_result",
          "data": {
            "text/plain": [
              "0     TRUE\n",
              "1     TRUE\n",
              "2       -1\n",
              "3       -1\n",
              "4       -1\n",
              "5     TRUE\n",
              "6       -1\n",
              "7       -1\n",
              "8       -1\n",
              "9     TRUE\n",
              "10    TRUE\n",
              "11      -1\n",
              "12      -1\n",
              "13    TRUE\n",
              "14    TRUE\n",
              "15      -1\n",
              "16      -1\n",
              "17    TRUE\n",
              "18    TRUE\n",
              "19    TRUE\n",
              "20    TRUE\n",
              "21      -1\n",
              "22    TRUE\n",
              "23    TRUE\n",
              "24      -1\n",
              "25    TRUE\n",
              "26    TRUE\n",
              "27      -1\n",
              "28      -1\n",
              "Name: easy_apply, dtype: object"
            ]
          },
          "metadata": {},
          "execution_count": 20
        }
      ]
    },
    {
      "cell_type": "code",
      "source": [
        "df[\"easy_apply\"].replace('-1', 0, inplace=True)\n",
        "df[\"easy_apply\"] = df[\"easy_apply\"].astype(\"bool\")\n",
        "print(df)"
      ],
      "metadata": {
        "colab": {
          "base_uri": "https://localhost:8080/"
        },
        "id": "ox6HpT9lBAv0",
        "outputId": "8cffaf40-61e4-4a57-b71e-0fefcd363ddd"
      },
      "execution_count": null,
      "outputs": [
        {
          "output_type": "stream",
          "name": "stdout",
          "text": [
            "    index   age    salary  rating       location  established  easy_apply\n",
            "0       0  44.0   44k-99k     5.4       India,In       1999.0        True\n",
            "1       1  62.0   55k-66k     3.5    New York,Ny       2002.0        True\n",
            "2       2  39.0   77k-89k     4.3    New York,Ny       1988.0       False\n",
            "3       3  62.0   44k-99k     4.4       India,In       1988.0       False\n",
            "4       4  25.0   44k-99k     6.4  Australia,Aus       2002.0       False\n",
            "5       5  44.0   77k-89k     1.4       India,In       1999.0        True\n",
            "6       6  21.0   44k-99k     0.0    New York,Ny       1988.0       False\n",
            "7       7  44.0   44k-99k     4.3  Australia,Aus       1988.0       False\n",
            "8       8  35.0   44k-99k     5.4    New York,Ny       1988.0       False\n",
            "9       9  22.0   44k-99k     7.7       India,In       1988.0        True\n",
            "10     10  55.0   10k-49k     5.4       India,In       2008.0        True\n",
            "11     11  44.0   10k-49k     6.7       India,In       2009.0       False\n",
            "12     12  39.0   44k-99k     0.0       India,In       1999.0       False\n",
            "13     13  25.0   44k-99k     4.3  Australia,Aus       2019.0        True\n",
            "14     14  62.0   44k-99k     4.0  Australia,Aus       2020.0        True\n",
            "15     15  44.0  88k-101k     3.0  Australia,Aus       1999.0       False\n",
            "16     16  19.0   19k-40k     4.5       India,In       1984.0       False\n",
            "17     17  39.0   44k-99k     5.3    New York,Ny       1943.0        True\n",
            "18     18  35.0   44k-99k     6.7    New York,Ny       1954.0        True\n",
            "19     19  32.0   44k-99k     3.3    New York,Ny       1955.0        True\n",
            "20     20  39.0   44k-99k     5.7    New York,Ny       1944.0        True\n",
            "21     21  35.0   44k-99k     5.0    New York,Ny       1946.0       False\n",
            "22     22  19.0   55k-66k     7.8    New York,Ny       1988.0        True\n",
            "23     23  39.0   44k-99k     2.4    New York,Ny       1999.0        True\n",
            "24     24  14.0   44k-99k     4.3    New York,Ny       1987.0       False\n",
            "25     25  55.0   44k-99k     0.0  Australia,Aus       1980.0        True\n",
            "26     26  39.0   55k-66k     4.3       India,In       1934.0        True\n",
            "27     27  52.0   44k-99k     5.4       India,In       1935.0       False\n",
            "28     28  39.0   39k-88k     3.4  Australia,Aus       1932.0       False\n"
          ]
        }
      ]
    },
    {
      "cell_type": "code",
      "source": [
        "#10Handling special characters\n",
        "print(df.location)"
      ],
      "metadata": {
        "colab": {
          "base_uri": "https://localhost:8080/"
        },
        "id": "JPMtIuKFSiWT",
        "outputId": "747d1e47-a58f-4206-d60c-20e5ed1ea1e8"
      },
      "execution_count": null,
      "outputs": [
        {
          "output_type": "stream",
          "name": "stdout",
          "text": [
            "0          India,In\n",
            "1       New York,Ny\n",
            "2       New York,Ny\n",
            "3          India,In\n",
            "4     Australia,Aus\n",
            "5          India,In\n",
            "6       New York,Ny\n",
            "7     Australia,Aus\n",
            "8       New York,Ny\n",
            "9          India,In\n",
            "10         India,In\n",
            "11         India,In\n",
            "12         India,In\n",
            "13    Australia,Aus\n",
            "14    Australia,Aus\n",
            "15    Australia,Aus\n",
            "16         India,In\n",
            "17      New York,Ny\n",
            "18      New York,Ny\n",
            "19      New York,Ny\n",
            "20      New York,Ny\n",
            "21      New York,Ny\n",
            "22      New York,Ny\n",
            "23      New York,Ny\n",
            "24      New York,Ny\n",
            "25    Australia,Aus\n",
            "26         India,In\n",
            "27         India,In\n",
            "28    Australia,Aus\n",
            "Name: location, dtype: object\n"
          ]
        }
      ]
    }
  ]
}